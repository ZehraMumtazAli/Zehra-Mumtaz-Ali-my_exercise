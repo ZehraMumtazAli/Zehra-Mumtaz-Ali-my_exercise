{
 "cells": [
  {
   "cell_type": "code",
   "execution_count": 1,
   "id": "008a64b4-1f21-4d41-b969-011c8bd8e39b",
   "metadata": {},
   "outputs": [
    {
     "name": "stdin",
     "output_type": "stream",
     "text": [
      "Give me 'q' to stop or any key to continue:  h\n",
      "Please enter your name:  Zehra\n",
      "Enter your painful condition:  neckpain\n"
     ]
    },
    {
     "name": "stdout",
     "output_type": "stream",
     "text": [
      "Assalam o Alaikum Zehra!\n",
      "Zehra, for your condition, we recommend: Neck tilts, Shoulder rolls, Chin tucks, Upper trapezius stretch, Levator scapulae stretch\n",
      "Thank you, Zehra!\n",
      "\n"
     ]
    },
    {
     "name": "stdin",
     "output_type": "stream",
     "text": [
      "Give me 'q' to stop or any key to continue:  q\n"
     ]
    },
    {
     "name": "stdout",
     "output_type": "stream",
     "text": [
      "Program ended. Stay healthy!\n"
     ]
    }
   ],
   "source": [
    "# Define pain condition sets (no spaces, all lowercase)\n",
    "lower_back = {\"lowerbackpain\", \"backache\", \"lumbarpain\"}\n",
    "neck = {\"neckpain\", \"stiffneck\", \"neckstiffness\"}\n",
    "shoulder = {\"shoulderpain\", \"frozenshoulder\", \"rotatorcuffpain\"}\n",
    "knee = {\"kneepain\", \"jointpain\", \"patellapain\"}\n",
    "\n",
    "# Function\n",
    "def my_exercise(name, condition=\"\"):\n",
    "    print(f\"Assalam o Alaikum {name}!\")\n",
    "\n",
    "    # Clean input fully\n",
    "    condition = condition.strip().lower().replace(\" \", \"\")\n",
    "\n",
    "    if condition in lower_back:\n",
    "        exercises = \"Cat-Cow stretch, Child's pose, Pelvic tilts, Knee-to-chest stretch, Bridge pose\"\n",
    "    elif condition in neck:\n",
    "        exercises = \"Neck tilts, Shoulder rolls, Chin tucks, Upper trapezius stretch, Levator scapulae stretch\"\n",
    "    elif condition in shoulder:\n",
    "        exercises = \"Arm circles, Cross-body stretch, Wall angels, Pendulum swings, Doorway stretch\"\n",
    "    elif condition in knee:\n",
    "        exercises = \"Quad stretch, Hamstring curl, Straight leg raise, Heel slide, Wall sit\"\n",
    "    elif condition == \"\":\n",
    "        exercises = \"Please enter a condition!\"\n",
    "    else:\n",
    "        exercises = \"Sorry, please consult a doctor for this condition.\"\n",
    "\n",
    "    print(f\"{name}, for your condition, we recommend: {exercises}\")\n",
    "    print(f\"Thank you, {name}!\\n\")\n",
    "\n",
    "# Start input loop\n",
    "x = input(\"Give me 'q' to stop or any key to continue: \")\n",
    "\n",
    "while x[:1].lower() != \"q\":\n",
    "    name = input(\"Please enter your name: \")\n",
    "    condition = input(\"Enter your painful condition: \")\n",
    "    my_exercise(name, condition)\n",
    "\n",
    "    x = input(\"Give me 'q' to stop or any key to continue: \")\n",
    "\n",
    "print(\"Program ended. Stay healthy!\")"
   ]
  }
 ],
 "metadata": {
  "kernelspec": {
   "display_name": "Python [conda env:base] *",
   "language": "python",
   "name": "conda-base-py"
  },
  "language_info": {
   "codemirror_mode": {
    "name": "ipython",
    "version": 3
   },
   "file_extension": ".py",
   "mimetype": "text/x-python",
   "name": "python",
   "nbconvert_exporter": "python",
   "pygments_lexer": "ipython3",
   "version": "3.12.7"
  }
 },
 "nbformat": 4,
 "nbformat_minor": 5
}
